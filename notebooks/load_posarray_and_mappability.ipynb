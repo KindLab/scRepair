{
 "cells": [
  {
   "cell_type": "code",
   "execution_count": null,
   "metadata": {},
   "outputs": [],
   "source": [
    "# warn about refactor\n",
    "import warnings\n",
    "warnings.warn(\"Use the refactored 'screpairutils' module instead\")"
   ]
  },
  {
   "cell_type": "markdown",
   "metadata": {},
   "source": [
    "---"
   ]
  },
  {
   "cell_type": "code",
   "execution_count": null,
   "metadata": {},
   "outputs": [],
   "source": [
    "import re\n",
    "\n",
    "import h5py\n",
    "import numpy as np\n",
    "import pandas as pd"
   ]
  },
  {
   "cell_type": "code",
   "execution_count": null,
   "metadata": {},
   "outputs": [],
   "source": [
    "def is_valid_chrom(s):\n",
    "    return (s not in {\"MT\", \"Y\"}) and (s[:4] != \"ERCC\") and (s[:2] not in {\"GL\", \"JH\"})"
   ]
  },
  {
   "cell_type": "code",
   "execution_count": null,
   "metadata": {},
   "outputs": [],
   "source": [
    "def natural_sort_key(s):\n",
    "    \"\"\"See http://www.codinghorror.com/blog/archives/001018.html\"\"\"\n",
    "    return [int(c) if c.isdigit() else c for c in re.split(r'(\\d+)', s)]"
   ]
  },
  {
   "cell_type": "markdown",
   "metadata": {},
   "source": [
    "---"
   ]
  },
  {
   "cell_type": "markdown",
   "metadata": {},
   "source": [
    "### Load GATC positions and mappability data, and bin the mappability"
   ]
  },
  {
   "cell_type": "markdown",
   "metadata": {},
   "source": [
    "#### BONUS: mask \"problematic\" regions (\"DAC Blacklisted Regions\")\n",
    "\n",
    "src: https://www.nature.com/articles/s41598-019-45839-z -> https://github.com/Boyle-Lab/Blacklist/ -> https://www.encodeproject.org/annotations/ENCSR636HFF/"
   ]
  },
  {
   "cell_type": "code",
   "execution_count": 1,
   "metadata": {},
   "outputs": [],
   "source": [
    "POSFN = \"/data/zfs/references/human/hg19/posarray/Homo_sapiens.GRCh37.dna.primary_assembly.with_ERCC.GATC.posarray.hdf5\"\n",
    "MAPFN = \"/data/zfs/references/human/hg19/mappability/Homo_sapiens.GRCh37.dna.primary_assembly.with_ERCC.GATC.bowtie2_very_sensitive_N1.readlength_65.counts.pos.hdf5\"\n",
    "BLACKLISTFN = \"/data/zfs/references/human/hg19/mappability/ENCFF001TDO.bed.gz\""
   ]
  },
  {
   "cell_type": "code",
   "execution_count": null,
   "metadata": {},
   "outputs": [],
   "source": [
    "with h5py.File(POSFN, 'r') as f:\n",
    "    chroms = sorted(filter(is_valid_chrom, f.keys()), key=natural_sort_key)\n",
    "    pos = {chrom: f[chrom][:].cumsum() for chrom in chroms}\n",
    "    chromsizes = {chrom: int(pos[chrom][-1]) + 1 for chrom in chroms}"
   ]
  },
  {
   "cell_type": "code",
   "execution_count": null,
   "metadata": {},
   "outputs": [],
   "source": [
    "binned_chromsizes = {\n",
    "    chrom: int(np.ceil(chromsizes[chrom] / BINSIZE))\n",
    "    for chrom in chroms\n",
    "}"
   ]
  },
  {
   "cell_type": "code",
   "execution_count": null,
   "metadata": {},
   "outputs": [],
   "source": [
    "binned_pos = {chrom: (pos[chrom] // BINSIZE) for chrom in chroms}"
   ]
  },
  {
   "cell_type": "code",
   "execution_count": null,
   "metadata": {},
   "outputs": [],
   "source": [
    "with h5py.File(MAPFN, 'r') as f:\n",
    "    mapab = {chrom: (f[chrom][:] > 0) for chrom in chroms}"
   ]
  },
  {
   "cell_type": "markdown",
   "metadata": {},
   "source": [
    "Load and apply the blacklist table"
   ]
  },
  {
   "cell_type": "code",
   "execution_count": null,
   "metadata": {},
   "outputs": [],
   "source": [
    "blacklisttbl = pd.read_csv(BLACKLISTFN, sep=\"\\t\", compression=\"gzip\", header=None)\n",
    "\n",
    "blacklisttbl.columns = [\"chrom\", \"start\", \"end\", \"type\", \"score\", \"strand\"]\n",
    "\n",
    "assert blacklisttbl[\"chrom\"].apply(lambda s: s.startswith(\"chr\")).all()  # :("
   ]
  },
  {
   "cell_type": "code",
   "execution_count": null,
   "metadata": {},
   "outputs": [],
   "source": [
    "CHRNAME_MAP = {\n",
    "    chrom: \"chr%s\" % chrom\n",
    "    for chrom in chroms\n",
    "    if chrom not in \"MT\"\n",
    "}\n",
    "\n",
    "CHRNAME_MAP['MT'] = \"chrM\"\n",
    "\n",
    "INV_CHRNAME_MAP = {\n",
    "    v: k for (k, v) in CHRNAME_MAP.items()\n",
    "}\n",
    "\n",
    "blacklisttbl[\"chrom\"] = blacklisttbl[\"chrom\"].map(INV_CHRNAME_MAP)"
   ]
  },
  {
   "cell_type": "code",
   "execution_count": null,
   "metadata": {},
   "outputs": [],
   "source": [
    "for chrom, chromsubdf in blacklisttbl.groupby([\"chrom\"]):\n",
    "    if chrom not in chroms:\n",
    "        print(\"Skipping %s\" % chrom)\n",
    "        continue\n",
    "    \n",
    "    segments = np.array([\n",
    "        # add some padding since GATC may fall out of blacklisted region but majority of read sequence may fall into it\n",
    "        np.searchsorted(\n",
    "            pos[chrom],\n",
    "            np.maximum(0, chromsubdf[\"start\"].values - 100).astype(int),\n",
    "        ),\n",
    "        np.searchsorted(\n",
    "            pos[chrom],\n",
    "            np.minimum(chromsizes[chrom], chromsubdf[\"end\"].values + 100).astype(int),\n",
    "        ),\n",
    "    ]).T\n",
    "    \n",
    "    for start, end in segments:\n",
    "        mapab[chrom][start:end] = False"
   ]
  },
  {
   "cell_type": "code",
   "execution_count": null,
   "metadata": {},
   "outputs": [],
   "source": [
    "binned_mapab = {chrom: np.zeros(binned_chromsizes[chrom], dtype=int) for chrom in chroms}\n",
    "for chrom in chroms:\n",
    "    np.add.at(binned_mapab[chrom], binned_pos[chrom], mapab[chrom].sum(axis=-1).astype(int))"
   ]
  },
  {
   "cell_type": "code",
   "execution_count": null,
   "metadata": {},
   "outputs": [],
   "source": [
    "CUTOFF_MAPAB = 2 * (BINSIZE / 1000)  # 2 per kb."
   ]
  },
  {
   "cell_type": "code",
   "execution_count": null,
   "metadata": {},
   "outputs": [],
   "source": [
    "w_mapab = {chrom: binned_mapab[chrom] >= CUTOFF_MAPAB for chrom in chroms}"
   ]
  },
  {
   "cell_type": "markdown",
   "metadata": {},
   "source": [
    "---"
   ]
  }
 ],
 "metadata": {
  "kernelspec": {
   "display_name": "Python 3 (ipykernel)",
   "language": "python",
   "name": "python3"
  },
  "language_info": {
   "codemirror_mode": {
    "name": "ipython",
    "version": 3
   },
   "file_extension": ".py",
   "mimetype": "text/x-python",
   "name": "python",
   "nbconvert_exporter": "python",
   "pygments_lexer": "ipython3",
   "version": "3.9.2"
  }
 },
 "nbformat": 4,
 "nbformat_minor": 2
}
